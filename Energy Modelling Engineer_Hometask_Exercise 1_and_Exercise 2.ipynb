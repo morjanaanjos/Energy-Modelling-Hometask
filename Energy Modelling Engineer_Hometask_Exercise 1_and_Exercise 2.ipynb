{
 "cells": [
  {
   "cell_type": "code",
   "execution_count": 51,
   "metadata": {},
   "outputs": [],
   "source": [
    "#Exercise 1 - Determine phi_out & T_out after air mixing\n",
    "\n",
    "#to solve the exercise 1, I've considered that this system is a control volum at steady state. \n",
    "#That means there is no significant heat transfer between the system and its surroundings, and there is no work (W) ( dW/dt = O)\n",
    "#I have also considered that changes in cinetic and potential energies of the flowing streams from inlet to outlet air can be ingnored.\n",
    "#For this control volum the amount of mass (m) at any instant remains constant, which measn dm/dt = 0 \n",
    "#Considering these assumptions, I can use the follow equations to determine phi_out & T_out:\n",
    "#Mass Balance: m_in = m_out-m_wt to determine the mass flow.\n",
    "# Energy balance: Q_flow_LEDs = m_in*cp*(T_in-T_out) to determine the temperature values.\n",
    "# Humidity balance: m_in*phi_out = m_in*phi_in+m_wt to determine the phi values.\n",
    "#Given values:\n",
    "#phi_in= 0.55\n",
    "#T_in = 25 °C\n",
    "#V_flow_in= 200 m3/h\n",
    "#Q_flow_environment =0 W\n",
    "#Q_flow_LEDs =1000 W\n",
    "#m_water_transpiration = 0.5 kg/h\n",
    "\n",
    "#Solving exercise 1\n",
    "\n",
    "from sympy import *\n"
   ]
  },
  {
   "cell_type": "code",
   "execution_count": 52,
   "metadata": {},
   "outputs": [
    {
     "data": {
      "text/latex": [
       "$\\displaystyle m_{in} = 236.0$"
      ],
      "text/plain": [
       "Eq(m_in, 236.0)"
      ]
     },
     "execution_count": 52,
     "metadata": {},
     "output_type": "execute_result"
    }
   ],
   "source": [
    "#Solving the Mass Balance\n",
    "\n",
    "m_in = Symbol('m_in') #m_in = inlet mass flow kg/h \n",
    "m_out = Symbol('m_out') #m_out = outlet mass flow kg/h\n",
    "m_wt = 0.5 #plant water transpiration mass flow kg/h \n",
    "\n",
    "#to find the m_in we can use the volumetric flow in i and the ar density(p).\n",
    "# The inlet air is at 25ºC, and I assumed it is at 1 atm, so the p = 1.18 kg/m³.\n",
    "#m_in = p*V\n",
    "V_flow_in = 200 #volumetric flow - m³/h \n",
    "p = 1.18 #density - Kg/m³\n",
    "\n",
    "inlet_mass = Eq(m_in,V_flow_in*p)\n",
    "inlet_mass\n",
    "\n"
   ]
  },
  {
   "cell_type": "code",
   "execution_count": 53,
   "metadata": {},
   "outputs": [
    {
     "data": {
      "text/latex": [
       "$\\displaystyle m_{out} = 236.5$"
      ],
      "text/plain": [
       "Eq(m_out, 236.5)"
      ]
     },
     "execution_count": 53,
     "metadata": {},
     "output_type": "execute_result"
    }
   ],
   "source": [
    "m_in=236\n",
    "outlet_mass = Eq(m_out, m_in+m_wt)\n",
    "outlet_mass"
   ]
  },
  {
   "cell_type": "code",
   "execution_count": 54,
   "metadata": {},
   "outputs": [
    {
     "data": {
      "text/plain": [
       "[20.8046652122839]"
      ]
     },
     "execution_count": 54,
     "metadata": {},
     "output_type": "execute_result"
    }
   ],
   "source": [
    "#Solving the energy balance to find T_out\n",
    "Q_flow_LEDs = 1000 # leds heat flow - Watt\n",
    "T_in = 25 #inlet temperature - ºC\n",
    "T_out = Symbol('T_out') #outlet temperature - ºC\n",
    "cp = 1.01 #specific heat - kJ/kg°C\n",
    "\n",
    "Temp_out = Eq(Q_flow_LEDs, m_in*cp*(T_in-T_out))\n",
    "solve(Temp_out,T_out)\n",
    "#T_out = 20.80ºC"
   ]
  },
  {
   "cell_type": "code",
   "execution_count": 56,
   "metadata": {},
   "outputs": [
    {
     "data": {
      "text/plain": [
       "[0.0151186440677966]"
      ]
     },
     "execution_count": 56,
     "metadata": {},
     "output_type": "execute_result"
    }
   ],
   "source": [
    "#Solving the Humidity balance to find phi_out\n",
    "# To solve this balance we must use the absolut humidity\n",
    "# I have tranformed the inlet relative humidity  55% at 25 at 1atm by using a external calculator\n",
    "\n",
    "phi_in = 0.013 #inlet absolut humidity - kg/m³\n",
    "phi_out = Symbol('phi_out')\n",
    "humidity_out = Eq(m_in*phi_out,m_in*phi_in+m_wt)\n",
    "solve(humidity_out,phi_out)"
   ]
  },
  {
   "cell_type": "code",
   "execution_count": 9,
   "metadata": {},
   "outputs": [],
   "source": [
    "# The absolut humidity of the outlet air of 0.01511 kg/m³ at 20.80 ºC at 1atm converted to relative humidity, at the same conditions, is 83%\n",
    "#phi_out = 0.83\n"
   ]
  },
  {
   "cell_type": "code",
   "execution_count": 57,
   "metadata": {},
   "outputs": [
    {
     "data": {
      "text/latex": [
       "$\\displaystyle m_{in2} = 118.0$"
      ],
      "text/plain": [
       "Eq(m_in2, 118.0)"
      ]
     },
     "execution_count": 57,
     "metadata": {},
     "output_type": "execute_result"
    }
   ],
   "source": [
    "#Exercise 2\n",
    "#To solve this exercise I kept the same assumptions of the exercise 1, however the balances will change once we have two diferent sources of air coming in.\n",
    "#Mass Balance: m_in + m_in2 = m_out-m_wt\n",
    "# Energy balance: Q_flow_LEDs = (m_in+m_in2)*cp*((T_in+T_in2)/2-T_out)\n",
    "# Humidity balance: m_in_total*phi_out = m_in_total*(phi_in + phi_in2/2) + m_wt\n",
    "#phi_in= 0.55\n",
    "#T_in = 25 °C\n",
    "#V_flow_in= 200 m3/h\n",
    "#phi_in2= 0.70\n",
    "#T_in2 = 22 °C\n",
    "#V_flow_in2= 100 m3/h\n",
    "#Q_flow_environment =0 W\n",
    "#Q_flow_LEDs =1000 W\n",
    "#m_water_transpiration = 0.5 kg/h\n",
    "\n",
    "\n",
    "#Solving the Mass Balance\n",
    "m_in2 = Symbol('m_in2') #m_in2 = inlet mass in in 2 - kg/h \n",
    "\n",
    "#to find the m_in2 we can use the volumetric flow in in2 and the ar density(p) at 25ºC and 1 atm.\n",
    "#m_in2 = p*V\n",
    "V_flow_in2 = 100 #volumetric flow - m3/h \n",
    "p = 1.18 #density - Kg/m3\n",
    "\n",
    "inlet_mass_2 = Eq(m_in2,V_flow_in2*p)\n",
    "inlet_mass_2\n"
   ]
  },
  {
   "cell_type": "code",
   "execution_count": 58,
   "metadata": {},
   "outputs": [
    {
     "data": {
      "text/plain": [
       "[354.500000000000]"
      ]
     },
     "execution_count": 58,
     "metadata": {},
     "output_type": "execute_result"
    }
   ],
   "source": [
    "m_in2=118.0\n",
    "m_out = Symbol('m_out')\n",
    "outlet_mass = Eq(m_in+m_in2,m_out-m_wt)\n",
    "solve(outlet_mass,m_out)"
   ]
  },
  {
   "cell_type": "code",
   "execution_count": 64,
   "metadata": {},
   "outputs": [
    {
     "data": {
      "text/plain": [
       "[20.7031101415226]"
      ]
     },
     "execution_count": 64,
     "metadata": {},
     "output_type": "execute_result"
    }
   ],
   "source": [
    "#Solving the energy balance to find T_out\n",
    "#To find the final temperature (Tf) of a mixed gas we can use this equation: Tf = (n1*T_in + n2*T_in2)/(n1+n2), where n means the mol number.\n",
    "#To solve this exercise I have assumed that both inlet air have the same number of mols.\n",
    "# That means to find the final temperature of the air mixing we just have to take the temperature mean of T_in and T_in2.\n",
    "Q_flow_LEDs = 1000 # leds heat- Watt\n",
    "T_in = 25 #inlet in inlet 1 temperature - ºC\n",
    "T_in2 = 22 #inlet in inlet 2 temperature - ºC\n",
    "T_out = Symbol('T_out') #outlet temperature - ºC\n",
    "cp = 1.01 #specific heat - kJ/kg°C\n",
    "m_in_total = 354 #outlet mass - kg/h\n",
    "\n",
    "Temp_out = Eq(Q_flow_LEDs, m_in_total*cp*((T_in+T_in2)/2-T_out))\n",
    "solve(Temp_out,T_out)\n"
   ]
  },
  {
   "cell_type": "code",
   "execution_count": 63,
   "metadata": {},
   "outputs": [
    {
     "data": {
      "text/plain": [
       "[0.0149124293785311]"
      ]
     },
     "execution_count": 63,
     "metadata": {},
     "output_type": "execute_result"
    }
   ],
   "source": [
    "#Solving the Humidity balance to find phi_out\n",
    "# To solve this balance I have also taken the phi mean of the two inlet air.\n",
    "# I have tranformed the inlet air relative humidity of 55% and 70% at 25ºC and 22ºC, respectively, at 1atm, by using a external calculator\n",
    "phi_in = 0.013 #inlet at i absolut humidity - kg/m³\n",
    "phi_in2 = 0.014 #inlet at i absolut humidity - kg/m³\n",
    "phi_out = Symbol('phi_out')\n",
    "Phi_out = Eq(m_in_total*phi_out,(m_in_total*(phi_in+phi_in2)/2)+m_wt)\n",
    "solve(Phi_out,phi_out)\n"
   ]
  },
  {
   "cell_type": "code",
   "execution_count": null,
   "metadata": {},
   "outputs": [],
   "source": [
    "# The absolut humidity of the outlet air of 0.01491 kg/m³ at 20.70 ºC at 1atm converted to relative humidity, at the same conditions, is 82%\n",
    "#phi_out = 0.82"
   ]
  }
 ],
 "metadata": {
  "kernelspec": {
   "display_name": "Python 3",
   "language": "python",
   "name": "python3"
  },
  "language_info": {
   "codemirror_mode": {
    "name": "ipython",
    "version": 3
   },
   "file_extension": ".py",
   "mimetype": "text/x-python",
   "name": "python",
   "nbconvert_exporter": "python",
   "pygments_lexer": "ipython3",
   "version": "3.7.6"
  }
 },
 "nbformat": 4,
 "nbformat_minor": 4
}
